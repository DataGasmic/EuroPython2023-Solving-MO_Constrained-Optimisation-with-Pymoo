{
 "cells": [
  {
   "cell_type": "code",
   "execution_count": 6,
   "id": "1b4c4795-30ee-468e-b2e7-54933fc3886a",
   "metadata": {},
   "outputs": [],
   "source": [
    "# !pip install --upgrade pip\n",
    "# !pip install pymoo"
   ]
  },
  {
   "cell_type": "code",
   "execution_count": 1,
   "id": "1224ed5f-69b3-4870-8d91-309ea4cb6883",
   "metadata": {},
   "outputs": [],
   "source": [
    "import pymoo"
   ]
  },
  {
   "cell_type": "code",
   "execution_count": 2,
   "id": "fca397d4-d707-4d7f-a749-4c3291f7b596",
   "metadata": {},
   "outputs": [
    {
     "data": {
      "text/plain": [
       "'0.6.0.1'"
      ]
     },
     "execution_count": 2,
     "metadata": {},
     "output_type": "execute_result"
    }
   ],
   "source": [
    "pymoo.__version__"
   ]
  },
  {
   "cell_type": "code",
   "execution_count": 15,
   "id": "4038781c-a783-4ea5-986c-37f5fe3d6c7e",
   "metadata": {},
   "outputs": [],
   "source": [
    "import numpy as np\n",
    "import pandas as pd\n",
    "import pickle"
   ]
  },
  {
   "attachments": {
    "ae0a5bba-cf8f-44b5-9a08-0cd8dfe4a75b.png": {
     "image/png": "[encoded data removed]"
    }
   },
   "cell_type": "markdown",
   "id": "73c990f2-907e-42a1-8189-caaffa754b4f",
   "metadata": {},
   "source": [
    "## Let's start with a simple and standard optimisation problem\n",
    "---------\n",
    "\n",
    "<div>\n",
    "<center><img src=\"attachment:ae0a5bba-cf8f-44b5-9a08-0cd8dfe4a75b.png\" width=\"200\"/></center>\n",
    "</div>"
   ]
  },
  {
   "cell_type": "markdown",
   "id": "d5d11f2a-d1cb-4a45-add2-4ec4b3417c25",
   "metadata": {},
   "source": [
    "### Problem Definition\n",
    "-------"
   ]
  },
  {
   "cell_type": "code",
   "execution_count": 16,
   "id": "660a64f3-3621-4d55-a848-b3433e34fbc6",
   "metadata": {},
   "outputs": [],
   "source": [
    "from pymoo.core.problem import (\n",
    "                        Problem,           # Vectorized - since most MO algorithms work with populations, this class evaluates a set of solutons at once \n",
    "                        ElementwiseProblem # Inherits from the Problem Class, works with a single solution at a time\n",
    "                               )\n",
    "from pymoo.problems.functional import FunctionalProblem  # Inherits from the ElementwiseProblem class , works with functions for each objective and constraint"
   ]
  },
  {
   "cell_type": "code",
   "execution_count": 17,
   "id": "5ce61259-751b-4622-a55f-4625c2d34252",
   "metadata": {},
   "outputs": [],
   "source": [
    "# Vectorised Problem\n",
    "class DeterministicProblem_P(Problem):\n",
    "\n",
    "    def __init__(self):\n",
    "        super().__init__(n_var = 1,\n",
    "                         n_obj = 1,\n",
    "                         xl = -5,\n",
    "                         xu = 5)\n",
    "\n",
    "    def _evaluate(self, x, out, *args, **kwargs):\n",
    "        print(f\"Vectorised Problem Class Length: {len(x)}\", end = \"\\r\")\n",
    "        out[\"F\"] = (x - 3)**2\n",
    "        \n",
    "problem_p = DeterministicProblem_P()\n",
    "\n",
    "# ElementwiseProblem\n",
    "class DeterministicProblem_EWP(ElementwiseProblem):\n",
    "\n",
    "    def __init__(self):\n",
    "        super().__init__(n_var = 1,\n",
    "                         n_obj = 1,\n",
    "                         xl = -5,\n",
    "                         xu = 5)\n",
    "\n",
    "    def _evaluate(self, x, out, *args, **kwargs):\n",
    "        print(f\"Elementwise Problem Class Length: {len(x)}\", end = \"\\r\")\n",
    "        out[\"F\"] = (x - 3)**2\n",
    "        \n",
    "problem_ewp = DeterministicProblem_EWP()\n",
    "        \n",
    "# Functional Problem\n",
    "\n",
    "objective_function = lambda x : (x-3)**2\n",
    "problem_fp = FunctionalProblem(n_var = 1,\n",
    "                            objs = objective_function,\n",
    "                            xl = -5,\n",
    "                            xu = 5 )\n",
    "\n",
    "\n",
    "problems_list = [problem_p , problem_ewp , problem_fp]"
   ]
  },
  {
   "cell_type": "markdown",
   "id": "504cb452-6619-46f4-9dd0-f70e747a4b66",
   "metadata": {},
   "source": [
    "### Algorithms\n",
    "--------"
   ]
  },
  {
   "cell_type": "code",
   "execution_count": 18,
   "id": "9541ef3a-6936-4655-b403-fec3b0547527",
   "metadata": {},
   "outputs": [],
   "source": [
    "from pymoo.algorithms.soo.nonconvex.de import DE # Differential Evolution\n",
    "from pymoo.algorithms.soo.nonconvex.ga import GA # Genetic Algorithm\n",
    "from pymoo.algorithms.soo.nonconvex.nelder import NelderMead\n",
    "from pymoo.optimize import minimize"
   ]
  },
  {
   "cell_type": "code",
   "execution_count": 19,
   "id": "e745dd4a-a0ff-41f5-b8ec-7fc7e88ba6e0",
   "metadata": {},
   "outputs": [],
   "source": [
    "de_algo  = DE(pop_size = 50)\n",
    "ga_algo  = GA(pop_size = 50) # has functionality to add mutation, crossover, sampling, selection, survival \n",
    "nm_algo  = NelderMead(init_simplex_scale=0.1)\n",
    "\n",
    "algorithms_list = [de_algo , ga_algo , nm_algo]"
   ]
  },
  {
   "cell_type": "code",
   "execution_count": 20,
   "id": "a0a5254e-3a0a-49fe-821f-0501dc7ea6e2",
   "metadata": {},
   "outputs": [
    {
     "name": "stdout",
     "output_type": "stream",
     "text": [
      "******** DeterministicProblem_P with DE Algorithm ********\n",
      "Vectorised Problem Class Length: 50\n",
      "\n",
      "Solution: \n",
      "X = [3.]\n",
      "F = [2.52270026e-25]\n",
      "******** DeterministicProblem_P with GA Algorithm ********\n",
      "Vectorised Problem Class Length: 50\n",
      "\n",
      "Solution: \n",
      "X = [3.00000901]\n",
      "F = [8.1156701e-11]\n",
      "******** DeterministicProblem_P with NelderMead Algorithm ********\n",
      "Vectorised Problem Class Length: 10\n",
      "\n",
      "Solution: \n",
      "X = [3.00015844]\n",
      "F = [2.51043889e-08]\n",
      "******** DeterministicProblem_EWP with DE Algorithm ********\n",
      "Elementwise Problem Class Length: 1\n",
      "\n",
      "Solution: \n",
      "X = [3.]\n",
      "F = [2.52270026e-25]\n",
      "******** DeterministicProblem_EWP with GA Algorithm ********\n",
      "Elementwise Problem Class Length: 1\n",
      "\n",
      "Solution: \n",
      "X = [3.00000901]\n",
      "F = [8.1156701e-11]\n",
      "******** DeterministicProblem_EWP with NelderMead Algorithm ********\n",
      "Elementwise Problem Class Length: 1\n",
      "\n",
      "Solution: \n",
      "X = [3.00015844]\n",
      "F = [2.51043889e-08]\n",
      "******** FunctionalProblem with DE Algorithm ********\n",
      "\n",
      "\n",
      "Solution: \n",
      "X = [3.]\n",
      "F = [2.52270026e-25]\n",
      "******** FunctionalProblem with GA Algorithm ********\n",
      "\n",
      "\n",
      "Solution: \n",
      "X = [3.00000901]\n",
      "F = [8.1156701e-11]\n",
      "******** FunctionalProblem with NelderMead Algorithm ********\n",
      "\n",
      "\n",
      "Solution: \n",
      "X = [3.00015844]\n",
      "F = [2.51043889e-08]\n"
     ]
    }
   ],
   "source": [
    "import time\n",
    "for prob in problems_list:\n",
    "    for algo in algorithms_list:\n",
    "        print(f\"******** {type(prob).__name__} with {type(algo).__name__} Algorithm ********\")\n",
    "        res = minimize(problem = prob,\n",
    "                   algorithm = algo,\n",
    "                   seed=1,\n",
    "                   verbose=False)\n",
    "        \n",
    "        print(\"\\n\")\n",
    "        print(\"Solution: \\nX = %s\\nF = %s\" % (res.X, res.F))"
   ]
  },
  {
   "cell_type": "code",
   "execution_count": 21,
   "id": "821dffcd-ac88-4cd5-9b68-d08cf6aca425",
   "metadata": {},
   "outputs": [],
   "source": [
    "# Just like that, we have a more flexible way of finding optimal solutions to problems using multiple algorithms"
   ]
  },
  {
   "cell_type": "markdown",
   "id": "f356b29a-8884-4dbb-8154-b7dde92024dd",
   "metadata": {},
   "source": [
    "## Let's get the ball rolling \n",
    "-----------\n",
    "\n",
    "### Adding Complexity \n",
    "\n",
    "- Multi Objective\n",
    "    - Minimise and Maximise together\n",
    "- Constraints\n",
    "    - Inequality"
   ]
  },
  {
   "attachments": {
    "3cb4d3a6-b249-4c34-b9e8-6a0c4342930f.png": {
     "image/png": "[encoded data removed]"
    }
   },
   "cell_type": "markdown",
   "id": "103888b3-a426-4b66-99be-c24c5e5f607f",
   "metadata": {},
   "source": [
    "## The BNH (Binh and Korn) Problem\n",
    "<div>\n",
    "<center><img src=\"attachment:3cb4d3a6-b249-4c34-b9e8-6a0c4342930f.png\" width=\"500\"/></center>\n",
    "</div>"
   ]
  },
  {
   "cell_type": "code",
   "execution_count": 22,
   "id": "3e1e7171-9697-4e27-bd6e-757df4fce302",
   "metadata": {},
   "outputs": [],
   "source": [
    "class BNH(Problem):\n",
    "\n",
    "    def __init__(self):\n",
    "        super().__init__(n_var = 2,\n",
    "                         n_obj = 2,\n",
    "                         n_ieq_constr = 2, \n",
    "                         xl = np.array([0 , 0]),\n",
    "                         xu = np.array([5 , 3]))\n",
    "\n",
    "    def _evaluate(self, x, out, *args, **kwargs):\n",
    "        \n",
    "        # Objective functions\n",
    "        obj1 = 4*(x[:,0]**2) + 4*(x[:,1]**2) # Objective Function 1 to be minimised\n",
    "        obj2 = (x[:,0] - 5)**2 + (x[:,1] - 5)**2 # Objective Function 2 to be minimised\n",
    "        \n",
    "        # Constraints, default orientation of constraints being met is < 0\n",
    "        const1 = (x[:,0] - 5)**2 + x[:,1]**2 - 25    # -25 to arrange for the above alignment\n",
    "        const2 = 7.7 -(x[:,0] - 8)**2 -(x[:,1] + 3)**2 # Rearrangement\n",
    "\n",
    "        # Stacking Objectives to \"F\" and Constraints to \"G\"\n",
    "        out[\"F\"] = np.column_stack([obj1 , obj2])\n",
    "        out[\"G\"] = np.column_stack([const1 , const2])\n"
   ]
  },
  {
   "cell_type": "code",
   "execution_count": 23,
   "id": "7d2e3c7c-f28b-4f0d-bbf1-d85dcca1509c",
   "metadata": {},
   "outputs": [],
   "source": [
    "bnh_problem = BNH()"
   ]
  },
  {
   "cell_type": "code",
   "execution_count": 24,
   "id": "399dc865-b529-43c6-8deb-f6b801aa82b7",
   "metadata": {},
   "outputs": [
    {
     "data": {
      "image/png": "[encoded data removed]",
      "text/plain": [
       "<Figure size 432x288 with 1 Axes>"
      ]
     },
     "metadata": {
      "needs_background": "light"
     },
     "output_type": "display_data"
    }
   ],
   "source": [
    "# Let's visualise the problem\n",
    "from pymoo.util.plotting import plot\n",
    "\n",
    "n_points = 50\n",
    "\n",
    "x1 = np.linspace(0, 5, n_points)\n",
    "x2 = np.linspace(0, 3, n_points)\n",
    "\n",
    "X = np.column_stack([x1, x2])\n",
    "plot(bnh_problem.evaluate(X, return_values_of=[\"F\"]))"
   ]
  },
  {
   "cell_type": "markdown",
   "id": "4c8aa81e-2be8-4dac-8628-6faa068f0ce9",
   "metadata": {},
   "source": [
    "### Let's solve it with constraints"
   ]
  },
  {
   "cell_type": "code",
   "execution_count": 26,
   "id": "70951eb7-0aa6-42dc-8c4f-132d12eeba78",
   "metadata": {},
   "outputs": [],
   "source": [
    "from pymoo.algorithms.moo.nsga2 import NSGA2\n",
    "algorithm = NSGA2(pop_size = 200)"
   ]
  },
  {
   "cell_type": "code",
   "execution_count": 28,
   "id": "21f58c8f-c4a7-4c79-80d7-8f56233fef49",
   "metadata": {},
   "outputs": [],
   "source": [
    "res = minimize(problem = bnh_problem,\n",
    "               algorithm = algorithm,\n",
    "               seed=1,\n",
    "               verbose=False)"
   ]
  },
  {
   "cell_type": "code",
   "execution_count": 29,
   "id": "c3ab434d-1472-42d8-9404-8af87568a5e7",
   "metadata": {},
   "outputs": [
    {
     "data": {
      "image/png": "[encoded data removed]",
      "text/plain": [
       "<Figure size 432x288 with 1 Axes>"
      ]
     },
     "metadata": {
      "needs_background": "light"
     },
     "output_type": "display_data"
    },
    {
     "data": {
      "image/png": "[encoded data removed]",
      "text/plain": [
       "<Figure size 432x288 with 1 Axes>"
      ]
     },
     "metadata": {
      "needs_background": "light"
     },
     "output_type": "display_data"
    }
   ],
   "source": [
    "plot(res.X, no_fill = True);\n",
    "plot(res.F, );"
   ]
  },
  {
   "cell_type": "markdown",
   "id": "0916b4cb-f476-4e8e-8f4e-6969ce188af5",
   "metadata": {},
   "source": [
    "\n",
    "## Up a notch : Complexity +++\n",
    "\n",
    "- Statistical Problem\n",
    "- Modelled with Non Linear Regression\n",
    "- Multiple Variable Types\n",
    "- Maximise and Minimise\n",
    "- Equality Constraints"
   ]
  },
  {
   "cell_type": "code",
   "execution_count": 193,
   "id": "e564b49c-bd5a-49c9-8366-7de9d19d58c1",
   "metadata": {},
   "outputs": [],
   "source": [
    "df = pd.read_csv(\"Steel Manufacturing.csv\")"
   ]
  },
  {
   "cell_type": "code",
   "execution_count": 194,
   "id": "f4fc7e05-baf0-43ab-8b0e-ca80a6b5e070",
   "metadata": {},
   "outputs": [
    {
     "data": {
      "text/html": [
       "<div>\n",
       "<style scoped>\n",
       "    .dataframe tbody tr th:only-of-type {\n",
       "        vertical-align: middle;\n",
       "    }\n",
       "\n",
       "    .dataframe tbody tr th {\n",
       "        vertical-align: top;\n",
       "    }\n",
       "\n",
       "    .dataframe thead th {\n",
       "        text-align: right;\n",
       "    }\n",
       "</style>\n",
       "<table border=\"1\" class=\"dataframe\">\n",
       "  <thead>\n",
       "    <tr style=\"text-align: right;\">\n",
       "      <th></th>\n",
       "      <th>Heating Temperature</th>\n",
       "      <th>Cooling Temperature</th>\n",
       "      <th>Solid Mold Size</th>\n",
       "      <th>Coke %</th>\n",
       "      <th>Minerals %</th>\n",
       "      <th>Production Type</th>\n",
       "      <th>Inclusions</th>\n",
       "      <th>Steel Strength</th>\n",
       "    </tr>\n",
       "  </thead>\n",
       "  <tbody>\n",
       "    <tr>\n",
       "      <th>0</th>\n",
       "      <td>147</td>\n",
       "      <td>127</td>\n",
       "      <td>51</td>\n",
       "      <td>39</td>\n",
       "      <td>61</td>\n",
       "      <td>Unit 2</td>\n",
       "      <td>13.83</td>\n",
       "      <td>962</td>\n",
       "    </tr>\n",
       "    <tr>\n",
       "      <th>1</th>\n",
       "      <td>180</td>\n",
       "      <td>123</td>\n",
       "      <td>49</td>\n",
       "      <td>64</td>\n",
       "      <td>36</td>\n",
       "      <td>Unit 1</td>\n",
       "      <td>9.34</td>\n",
       "      <td>928</td>\n",
       "    </tr>\n",
       "    <tr>\n",
       "      <th>2</th>\n",
       "      <td>155</td>\n",
       "      <td>141</td>\n",
       "      <td>66</td>\n",
       "      <td>71</td>\n",
       "      <td>29</td>\n",
       "      <td>Unit 2</td>\n",
       "      <td>12.84</td>\n",
       "      <td>1142</td>\n",
       "    </tr>\n",
       "    <tr>\n",
       "      <th>3</th>\n",
       "      <td>177</td>\n",
       "      <td>136</td>\n",
       "      <td>38</td>\n",
       "      <td>40</td>\n",
       "      <td>60</td>\n",
       "      <td>Unit 1</td>\n",
       "      <td>15.08</td>\n",
       "      <td>691</td>\n",
       "    </tr>\n",
       "    <tr>\n",
       "      <th>4</th>\n",
       "      <td>147</td>\n",
       "      <td>123</td>\n",
       "      <td>57</td>\n",
       "      <td>48</td>\n",
       "      <td>52</td>\n",
       "      <td>Unit 1</td>\n",
       "      <td>9.57</td>\n",
       "      <td>973</td>\n",
       "    </tr>\n",
       "  </tbody>\n",
       "</table>\n",
       "</div>"
      ],
      "text/plain": [
       "   Heating Temperature  Cooling Temperature  Solid Mold Size  Coke %  \\\n",
       "0                  147                  127               51      39   \n",
       "1                  180                  123               49      64   \n",
       "2                  155                  141               66      71   \n",
       "3                  177                  136               38      40   \n",
       "4                  147                  123               57      48   \n",
       "\n",
       "   Minerals % Production Type  Inclusions  Steel Strength  \n",
       "0          61          Unit 2       13.83             962  \n",
       "1          36          Unit 1        9.34             928  \n",
       "2          29          Unit 2       12.84            1142  \n",
       "3          60          Unit 1       15.08             691  \n",
       "4          52          Unit 1        9.57             973  "
      ]
     },
     "execution_count": 194,
     "metadata": {},
     "output_type": "execute_result"
    }
   ],
   "source": [
    "df.head()"
   ]
  },
  {
   "cell_type": "code",
   "execution_count": 195,
   "id": "54a6546d-de65-43f1-8b78-881a8559825d",
   "metadata": {},
   "outputs": [],
   "source": [
    "# Loading Existing Models\n",
    "\n",
    "inclusion_model_path = \"inclusions_model.pkl\"\n",
    "steel_strength_model_path = \"steel_strength_model.pkl\"\n",
    "\n",
    "with open(inclusion_model_path, 'rb') as f:\n",
    "    inclusion_model = pickle.load(f)\n",
    "    \n",
    "with open(steel_strength_model_path, 'rb') as f:\n",
    "    steel_strength_model = pickle.load(f)"
   ]
  },
  {
   "cell_type": "code",
   "execution_count": 196,
   "id": "c0d60b20-a57a-4eca-bb50-b7381d1b295a",
   "metadata": {},
   "outputs": [],
   "source": [
    "X = df.drop(columns = [\"Inclusions\", \"Steel Strength\"])"
   ]
  },
  {
   "cell_type": "code",
   "execution_count": 197,
   "id": "1e13b699-192a-45e6-b2fd-b426b7a1956c",
   "metadata": {},
   "outputs": [
    {
     "data": {
      "text/html": [
       "<style>#sk-container-id-3 {color: black;background-color: white;}#sk-container-id-3 pre{padding: 0;}#sk-container-id-3 div.sk-toggleable {background-color: white;}#sk-container-id-3 label.sk-toggleable__label {cursor: pointer;display: block;width: 100%;margin-bottom: 0;padding: 0.3em;box-sizing: border-box;text-align: center;}#sk-container-id-3 label.sk-toggleable__label-arrow:before {content: \"▸\";float: left;margin-right: 0.25em;color: #696969;}#sk-container-id-3 label.sk-toggleable__label-arrow:hover:before {color: black;}#sk-container-id-3 div.sk-estimator:hover label.sk-toggleable__label-arrow:before {color: black;}#sk-container-id-3 div.sk-toggleable__content {max-height: 0;max-width: 0;overflow: hidden;text-align: left;background-color: #f0f8ff;}#sk-container-id-3 div.sk-toggleable__content pre {margin: 0.2em;color: black;border-radius: 0.25em;background-color: #f0f8ff;}#sk-container-id-3 input.sk-toggleable__control:checked~div.sk-toggleable__content {max-height: 200px;max-width: 100%;overflow: auto;}#sk-container-id-3 input.sk-toggleable__control:checked~label.sk-toggleable__label-arrow:before {content: \"▾\";}#sk-container-id-3 div.sk-estimator input.sk-toggleable__control:checked~label.sk-toggleable__label {background-color: #d4ebff;}#sk-container-id-3 div.sk-label input.sk-toggleable__control:checked~label.sk-toggleable__label {background-color: #d4ebff;}#sk-container-id-3 input.sk-hidden--visually {border: 0;clip: rect(1px 1px 1px 1px);clip: rect(1px, 1px, 1px, 1px);height: 1px;margin: -1px;overflow: hidden;padding: 0;position: absolute;width: 1px;}#sk-container-id-3 div.sk-estimator {font-family: monospace;background-color: #f0f8ff;border: 1px dotted black;border-radius: 0.25em;box-sizing: border-box;margin-bottom: 0.5em;}#sk-container-id-3 div.sk-estimator:hover {background-color: #d4ebff;}#sk-container-id-3 div.sk-parallel-item::after {content: \"\";width: 100%;border-bottom: 1px solid gray;flex-grow: 1;}#sk-container-id-3 div.sk-label:hover label.sk-toggleable__label {background-color: #d4ebff;}#sk-container-id-3 div.sk-serial::before {content: \"\";position: absolute;border-left: 1px solid gray;box-sizing: border-box;top: 0;bottom: 0;left: 50%;z-index: 0;}#sk-container-id-3 div.sk-serial {display: flex;flex-direction: column;align-items: center;background-color: white;padding-right: 0.2em;padding-left: 0.2em;position: relative;}#sk-container-id-3 div.sk-item {position: relative;z-index: 1;}#sk-container-id-3 div.sk-parallel {display: flex;align-items: stretch;justify-content: center;background-color: white;position: relative;}#sk-container-id-3 div.sk-item::before, #sk-container-id-3 div.sk-parallel-item::before {content: \"\";position: absolute;border-left: 1px solid gray;box-sizing: border-box;top: 0;bottom: 0;left: 50%;z-index: -1;}#sk-container-id-3 div.sk-parallel-item {display: flex;flex-direction: column;z-index: 1;position: relative;background-color: white;}#sk-container-id-3 div.sk-parallel-item:first-child::after {align-self: flex-end;width: 50%;}#sk-container-id-3 div.sk-parallel-item:last-child::after {align-self: flex-start;width: 50%;}#sk-container-id-3 div.sk-parallel-item:only-child::after {width: 0;}#sk-container-id-3 div.sk-dashed-wrapped {border: 1px dashed gray;margin: 0 0.4em 0.5em 0.4em;box-sizing: border-box;padding-bottom: 0.4em;background-color: white;}#sk-container-id-3 div.sk-label label {font-family: monospace;font-weight: bold;display: inline-block;line-height: 1.2em;}#sk-container-id-3 div.sk-label-container {text-align: center;}#sk-container-id-3 div.sk-container {/* jupyter's `normalize.less` sets `[hidden] { display: none; }` but bootstrap.min.css set `[hidden] { display: none !important; }` so we also need the `!important` here to be able to override the default hidden behavior on the sphinx rendered scikit-learn.org. See: https://github.com/scikit-learn/scikit-learn/issues/21755 */display: inline-block !important;position: relative;}#sk-container-id-3 div.sk-text-repr-fallback {display: none;}</style><div id=\"sk-container-id-3\" class=\"sk-top-container\"><div class=\"sk-text-repr-fallback\"><pre>Pipeline(steps=[(&#x27;preprocessor&#x27;,\n",
       "                 ColumnTransformer(remainder=&#x27;passthrough&#x27;,\n",
       "                                   transformers=[(&#x27;num&#x27;,\n",
       "                                                  Pipeline(steps=[(&#x27;scaler&#x27;,\n",
       "                                                                   StandardScaler())]),\n",
       "                                                  Index([&#x27;Heating Temperature&#x27;, &#x27;Cooling Temperature&#x27;, &#x27;Solid Mold Size&#x27;,\n",
       "       &#x27;Coke %&#x27;, &#x27;Minerals %&#x27;],\n",
       "      dtype=&#x27;object&#x27;)),\n",
       "                                                 (&#x27;cat&#x27;,\n",
       "                                                  Pipeline(steps=[(&#x27;one_hot_encoder&#x27;,\n",
       "                                                                   OneHotEncoder())]),\n",
       "                                                  Index([&#x27;Production Type&#x27;], dtype=&#x27;object&#x27;))])),\n",
       "                (&#x27;regressor&#x27;, RandomForestRegressor())])</pre><b>In a Jupyter environment, please rerun this cell to show the HTML representation or trust the notebook. <br />On GitHub, the HTML representation is unable to render, please try loading this page with nbviewer.org.</b></div><div class=\"sk-container\" hidden><div class=\"sk-item sk-dashed-wrapped\"><div class=\"sk-label-container\"><div class=\"sk-label sk-toggleable\"><input class=\"sk-toggleable__control sk-hidden--visually\" id=\"sk-estimator-id-19\" type=\"checkbox\" ><label for=\"sk-estimator-id-19\" class=\"sk-toggleable__label sk-toggleable__label-arrow\">Pipeline</label><div class=\"sk-toggleable__content\"><pre>Pipeline(steps=[(&#x27;preprocessor&#x27;,\n",
       "                 ColumnTransformer(remainder=&#x27;passthrough&#x27;,\n",
       "                                   transformers=[(&#x27;num&#x27;,\n",
       "                                                  Pipeline(steps=[(&#x27;scaler&#x27;,\n",
       "                                                                   StandardScaler())]),\n",
       "                                                  Index([&#x27;Heating Temperature&#x27;, &#x27;Cooling Temperature&#x27;, &#x27;Solid Mold Size&#x27;,\n",
       "       &#x27;Coke %&#x27;, &#x27;Minerals %&#x27;],\n",
       "      dtype=&#x27;object&#x27;)),\n",
       "                                                 (&#x27;cat&#x27;,\n",
       "                                                  Pipeline(steps=[(&#x27;one_hot_encoder&#x27;,\n",
       "                                                                   OneHotEncoder())]),\n",
       "                                                  Index([&#x27;Production Type&#x27;], dtype=&#x27;object&#x27;))])),\n",
       "                (&#x27;regressor&#x27;, RandomForestRegressor())])</pre></div></div></div><div class=\"sk-serial\"><div class=\"sk-item sk-dashed-wrapped\"><div class=\"sk-label-container\"><div class=\"sk-label sk-toggleable\"><input class=\"sk-toggleable__control sk-hidden--visually\" id=\"sk-estimator-id-20\" type=\"checkbox\" ><label for=\"sk-estimator-id-20\" class=\"sk-toggleable__label sk-toggleable__label-arrow\">preprocessor: ColumnTransformer</label><div class=\"sk-toggleable__content\"><pre>ColumnTransformer(remainder=&#x27;passthrough&#x27;,\n",
       "                  transformers=[(&#x27;num&#x27;,\n",
       "                                 Pipeline(steps=[(&#x27;scaler&#x27;, StandardScaler())]),\n",
       "                                 Index([&#x27;Heating Temperature&#x27;, &#x27;Cooling Temperature&#x27;, &#x27;Solid Mold Size&#x27;,\n",
       "       &#x27;Coke %&#x27;, &#x27;Minerals %&#x27;],\n",
       "      dtype=&#x27;object&#x27;)),\n",
       "                                (&#x27;cat&#x27;,\n",
       "                                 Pipeline(steps=[(&#x27;one_hot_encoder&#x27;,\n",
       "                                                  OneHotEncoder())]),\n",
       "                                 Index([&#x27;Production Type&#x27;], dtype=&#x27;object&#x27;))])</pre></div></div></div><div class=\"sk-parallel\"><div class=\"sk-parallel-item\"><div class=\"sk-item\"><div class=\"sk-label-container\"><div class=\"sk-label sk-toggleable\"><input class=\"sk-toggleable__control sk-hidden--visually\" id=\"sk-estimator-id-21\" type=\"checkbox\" ><label for=\"sk-estimator-id-21\" class=\"sk-toggleable__label sk-toggleable__label-arrow\">num</label><div class=\"sk-toggleable__content\"><pre>Index([&#x27;Heating Temperature&#x27;, &#x27;Cooling Temperature&#x27;, &#x27;Solid Mold Size&#x27;,\n",
       "       &#x27;Coke %&#x27;, &#x27;Minerals %&#x27;],\n",
       "      dtype=&#x27;object&#x27;)</pre></div></div></div><div class=\"sk-serial\"><div class=\"sk-item\"><div class=\"sk-serial\"><div class=\"sk-item\"><div class=\"sk-estimator sk-toggleable\"><input class=\"sk-toggleable__control sk-hidden--visually\" id=\"sk-estimator-id-22\" type=\"checkbox\" ><label for=\"sk-estimator-id-22\" class=\"sk-toggleable__label sk-toggleable__label-arrow\">StandardScaler</label><div class=\"sk-toggleable__content\"><pre>StandardScaler()</pre></div></div></div></div></div></div></div></div><div class=\"sk-parallel-item\"><div class=\"sk-item\"><div class=\"sk-label-container\"><div class=\"sk-label sk-toggleable\"><input class=\"sk-toggleable__control sk-hidden--visually\" id=\"sk-estimator-id-23\" type=\"checkbox\" ><label for=\"sk-estimator-id-23\" class=\"sk-toggleable__label sk-toggleable__label-arrow\">cat</label><div class=\"sk-toggleable__content\"><pre>Index([&#x27;Production Type&#x27;], dtype=&#x27;object&#x27;)</pre></div></div></div><div class=\"sk-serial\"><div class=\"sk-item\"><div class=\"sk-serial\"><div class=\"sk-item\"><div class=\"sk-estimator sk-toggleable\"><input class=\"sk-toggleable__control sk-hidden--visually\" id=\"sk-estimator-id-24\" type=\"checkbox\" ><label for=\"sk-estimator-id-24\" class=\"sk-toggleable__label sk-toggleable__label-arrow\">OneHotEncoder</label><div class=\"sk-toggleable__content\"><pre>OneHotEncoder()</pre></div></div></div></div></div></div></div></div><div class=\"sk-parallel-item\"><div class=\"sk-item\"><div class=\"sk-label-container\"><div class=\"sk-label sk-toggleable\"><input class=\"sk-toggleable__control sk-hidden--visually\" id=\"sk-estimator-id-25\" type=\"checkbox\" ><label for=\"sk-estimator-id-25\" class=\"sk-toggleable__label sk-toggleable__label-arrow\">remainder</label><div class=\"sk-toggleable__content\"><pre>[]</pre></div></div></div><div class=\"sk-serial\"><div class=\"sk-item\"><div class=\"sk-estimator sk-toggleable\"><input class=\"sk-toggleable__control sk-hidden--visually\" id=\"sk-estimator-id-26\" type=\"checkbox\" ><label for=\"sk-estimator-id-26\" class=\"sk-toggleable__label sk-toggleable__label-arrow\">passthrough</label><div class=\"sk-toggleable__content\"><pre>passthrough</pre></div></div></div></div></div></div></div></div><div class=\"sk-item\"><div class=\"sk-estimator sk-toggleable\"><input class=\"sk-toggleable__control sk-hidden--visually\" id=\"sk-estimator-id-27\" type=\"checkbox\" ><label for=\"sk-estimator-id-27\" class=\"sk-toggleable__label sk-toggleable__label-arrow\">RandomForestRegressor</label><div class=\"sk-toggleable__content\"><pre>RandomForestRegressor()</pre></div></div></div></div></div></div></div>"
      ],
      "text/plain": [
       "Pipeline(steps=[('preprocessor',\n",
       "                 ColumnTransformer(remainder='passthrough',\n",
       "                                   transformers=[('num',\n",
       "                                                  Pipeline(steps=[('scaler',\n",
       "                                                                   StandardScaler())]),\n",
       "                                                  Index(['Heating Temperature', 'Cooling Temperature', 'Solid Mold Size',\n",
       "       'Coke %', 'Minerals %'],\n",
       "      dtype='object')),\n",
       "                                                 ('cat',\n",
       "                                                  Pipeline(steps=[('one_hot_encoder',\n",
       "                                                                   OneHotEncoder())]),\n",
       "                                                  Index(['Production Type'], dtype='object'))])),\n",
       "                ('regressor', RandomForestRegressor())])"
      ]
     },
     "execution_count": 197,
     "metadata": {},
     "output_type": "execute_result"
    }
   ],
   "source": [
    "inclusion_model"
   ]
  },
  {
   "cell_type": "code",
   "execution_count": 198,
   "id": "855f9320-64c5-45b1-bab1-77286cfc098c",
   "metadata": {},
   "outputs": [
    {
     "data": {
      "text/plain": [
       "array([13.5831,  9.2154, 12.46  , ..., 10.671 , 14.7463, 15.4303])"
      ]
     },
     "execution_count": 198,
     "metadata": {},
     "output_type": "execute_result"
    }
   ],
   "source": [
    "inclusion_model.predict(X)"
   ]
  },
  {
   "cell_type": "code",
   "execution_count": 199,
   "id": "a1b06aaa-50ae-410a-9b38-0d30ebda6039",
   "metadata": {},
   "outputs": [
    {
     "data": {
      "text/plain": [
       "array([ 974.34,  920.4 , 1120.67, ..., 1007.94,  509.4 ,  510.23])"
      ]
     },
     "execution_count": 199,
     "metadata": {},
     "output_type": "execute_result"
    }
   ],
   "source": [
    "steel_strength_model.predict(X)"
   ]
  },
  {
   "cell_type": "markdown",
   "id": "ae178253-3481-48cc-9b67-cbd38dc28416",
   "metadata": {},
   "source": [
    "## Building the Optimiser"
   ]
  },
  {
   "cell_type": "code",
   "execution_count": 200,
   "id": "d1155d1a-38f1-4c16-80ab-5cf009c91eff",
   "metadata": {},
   "outputs": [],
   "source": [
    "from pymoo.core.variable import Choice, Real, Integer "
   ]
  },
  {
   "cell_type": "code",
   "execution_count": 201,
   "id": "5810becd-11ba-4f9a-8ebb-0a14ffced96e",
   "metadata": {},
   "outputs": [
    {
     "data": {
      "text/plain": [
       "Index(['Heating Temperature', 'Cooling Temperature', 'Solid Mold Size',\n",
       "       'Coke %', 'Minerals %', 'Production Type'],\n",
       "      dtype='object')"
      ]
     },
     "execution_count": 201,
     "metadata": {},
     "output_type": "execute_result"
    }
   ],
   "source": [
    "X.columns"
   ]
  },
  {
   "cell_type": "code",
   "execution_count": 202,
   "id": "4cb0ae1e-4832-4271-990b-74079d4eb23f",
   "metadata": {},
   "outputs": [],
   "source": [
    "mixed_variables = {\n",
    "    \"Heating Temperature\" : Integer(bounds=(df['Heating Temperature'].min(),\n",
    "                                        df['Heating Temperature'].max())),\n",
    "\n",
    "    \"Cooling Temperature\" : Integer(bounds=(df['Cooling Temperature'].min(),\n",
    "                                            df['Cooling Temperature'].max())), \n",
    "    \n",
    "    \"Solid Mold Size\" : Real(bounds=(df['Solid Mold Size'].min(),\n",
    "                                        df['Solid Mold Size'].max())),\n",
    "    \n",
    "    \"Coke %\" : Real(bounds=(df['Coke %'].min(),\n",
    "                                        df['Coke %'].max())),\n",
    "    \n",
    "    \"Minerals %\" : Real(bounds=(df['Minerals %'].min(),\n",
    "                                    df['Minerals %'].max())),\n",
    "    \n",
    "    \"Production Type\" : Choice(options = list(df['Production Type'].unique())),\n",
    "    \n",
    "}"
   ]
  },
  {
   "cell_type": "code",
   "execution_count": 203,
   "id": "fd7d767a-6307-4d20-ba4b-c84176c1eb55",
   "metadata": {},
   "outputs": [
    {
     "data": {
      "text/plain": [
       "{'Heating Temperature': <pymoo.core.variable.Integer at 0x7fc81b42b3a0>,\n",
       " 'Cooling Temperature': <pymoo.core.variable.Integer at 0x7fc81b42b490>,\n",
       " 'Solid Mold Size': <pymoo.core.variable.Real at 0x7fc809a30bb0>,\n",
       " 'Coke %': <pymoo.core.variable.Real at 0x7fc80b1599d0>,\n",
       " 'Minerals %': <pymoo.core.variable.Real at 0x7fc81954af40>,\n",
       " 'Production Type': <pymoo.core.variable.Choice at 0x7fc81bd817f0>}"
      ]
     },
     "execution_count": 203,
     "metadata": {},
     "output_type": "execute_result"
    }
   ],
   "source": [
    "mixed_variables"
   ]
  },
  {
   "cell_type": "markdown",
   "id": "966c1b3b-3201-4772-9829-0c8097cead6b",
   "metadata": {},
   "source": [
    "## Constraints of the System\n",
    "\n",
    "- The sum of coke and mineral percentages should equal 100\n",
    "- Cooling Temperature must be less than Heating Temperature"
   ]
  },
  {
   "cell_type": "code",
   "execution_count": 225,
   "id": "1049efb5-ee26-4ae9-a012-14bf2dca9a1c",
   "metadata": {},
   "outputs": [],
   "source": [
    "class SteelManufacturing(Problem):\n",
    "\n",
    "    def __init__(self, **kwargs):\n",
    "        super().__init__(vars = mixed_variables, n_obj = 2,\n",
    "                         n_ieq_constr = 1 , n_eq_constr = 1 ,\n",
    "                         **kwargs) \n",
    "\n",
    "    def _evaluate(self, x, out, *args, **kwargs):\n",
    "        \n",
    "        # Type conversion for Prediction and Constraint\n",
    "        temp_df = pd.DataFrame(list(x))\n",
    "        \n",
    "        obj1 = inclusion_model.predict(temp_df) # Minimise\n",
    "        obj2 = -1*steel_strength_model.predict(temp_df) # Maximise\n",
    "        \n",
    "        equality_constraint = temp_df[[\"Coke %\", \"Minerals %\"]].sum(axis = 1) - 100\n",
    "        inequality_constraint = temp_df[\"Cooling Temperature\"] - temp_df[\"Heating Temperature\"]\n",
    "        \n",
    "        out[\"F\"] = np.column_stack([obj1 , obj2])\n",
    "        out[\"G\"] = np.column_stack([inequality_constraint])\n",
    "        out[\"H\"] = np.column_stack([equality_constraint])"
   ]
  },
  {
   "cell_type": "code",
   "execution_count": 253,
   "id": "f7c0bc94-1e75-4b71-9797-c49e0b590ab6",
   "metadata": {},
   "outputs": [],
   "source": [
    "from pymoo.core.mixed import MixedVariableMating, MixedVariableSampling, MixedVariableDuplicateElimination\n",
    "\n",
    "problem = SteelManufacturing()\n",
    "\n",
    "algorithm = NSGA2(pop_size = 200,\n",
    "                  sampling = MixedVariableSampling(),\n",
    "                  mating=MixedVariableMating(eliminate_duplicates=MixedVariableDuplicateElimination()),\n",
    "                  eliminate_duplicates = False)\n",
    "\n",
    "res = minimize(problem,\n",
    "               algorithm,\n",
    "               ('n_gen', 100),\n",
    "               verbose = False,\n",
    "              seed = 1)"
   ]
  },
  {
   "cell_type": "code",
   "execution_count": 254,
   "id": "6d1416c2-8db5-480b-aaa0-3535b527ef96",
   "metadata": {},
   "outputs": [],
   "source": [
    "result = pd.DataFrame(list(res.X))"
   ]
  },
  {
   "cell_type": "code",
   "execution_count": 255,
   "id": "3403b720-85dd-4e09-bc56-747d9c7b5fa3",
   "metadata": {},
   "outputs": [],
   "source": [
    "pd.set_option(\"display.max_rows\", 100)\n",
    "result['Inclusions'] = inclusion_model.predict(result)\n",
    "result['Steel Strength'] = steel_strength_model.predict(result)"
   ]
  },
  {
   "cell_type": "code",
   "execution_count": 256,
   "id": "5c5044bb-6872-44cc-b072-a0bc449cffb7",
   "metadata": {},
   "outputs": [
    {
     "data": {
      "image/png": "[encoded data removed]",
      "text/plain": [
       "<Figure size 432x288 with 1 Axes>"
      ]
     },
     "metadata": {
      "needs_background": "light"
     },
     "output_type": "display_data"
    }
   ],
   "source": [
    "import matplotlib.pyplot as plt\n",
    "plt.scatter(result['Inclusions'] , result['Steel Strength']);"
   ]
  },
  {
   "cell_type": "code",
   "execution_count": 257,
   "id": "50d62c79-913f-4a2a-8407-0118d15d3a7b",
   "metadata": {},
   "outputs": [
    {
     "data": {
      "text/html": [
       "<div>\n",
       "<style scoped>\n",
       "    .dataframe tbody tr th:only-of-type {\n",
       "        vertical-align: middle;\n",
       "    }\n",
       "\n",
       "    .dataframe tbody tr th {\n",
       "        vertical-align: top;\n",
       "    }\n",
       "\n",
       "    .dataframe thead th {\n",
       "        text-align: right;\n",
       "    }\n",
       "</style>\n",
       "<table border=\"1\" class=\"dataframe\">\n",
       "  <thead>\n",
       "    <tr style=\"text-align: right;\">\n",
       "      <th></th>\n",
       "      <th>Heating Temperature</th>\n",
       "      <th>Cooling Temperature</th>\n",
       "      <th>Solid Mold Size</th>\n",
       "      <th>Coke %</th>\n",
       "      <th>Minerals %</th>\n",
       "      <th>Production Type</th>\n",
       "      <th>Inclusions</th>\n",
       "      <th>Steel Strength</th>\n",
       "    </tr>\n",
       "  </thead>\n",
       "  <tbody>\n",
       "    <tr>\n",
       "      <th>0</th>\n",
       "      <td>167</td>\n",
       "      <td>143</td>\n",
       "      <td>55.900571</td>\n",
       "      <td>38.076035</td>\n",
       "      <td>61.923875</td>\n",
       "      <td>Unit 1</td>\n",
       "      <td>11.6416</td>\n",
       "      <td>1020.80</td>\n",
       "    </tr>\n",
       "    <tr>\n",
       "      <th>1</th>\n",
       "      <td>169</td>\n",
       "      <td>117</td>\n",
       "      <td>54.460428</td>\n",
       "      <td>38.076035</td>\n",
       "      <td>61.923875</td>\n",
       "      <td>Unit 1</td>\n",
       "      <td>10.2305</td>\n",
       "      <td>981.11</td>\n",
       "    </tr>\n",
       "    <tr>\n",
       "      <th>2</th>\n",
       "      <td>168</td>\n",
       "      <td>117</td>\n",
       "      <td>51.243370</td>\n",
       "      <td>38.076030</td>\n",
       "      <td>61.923875</td>\n",
       "      <td>Unit 1</td>\n",
       "      <td>10.2811</td>\n",
       "      <td>982.97</td>\n",
       "    </tr>\n",
       "    <tr>\n",
       "      <th>3</th>\n",
       "      <td>177</td>\n",
       "      <td>141</td>\n",
       "      <td>59.031522</td>\n",
       "      <td>38.076034</td>\n",
       "      <td>61.923875</td>\n",
       "      <td>Unit 2</td>\n",
       "      <td>14.3769</td>\n",
       "      <td>1134.71</td>\n",
       "    </tr>\n",
       "    <tr>\n",
       "      <th>4</th>\n",
       "      <td>181</td>\n",
       "      <td>140</td>\n",
       "      <td>59.838147</td>\n",
       "      <td>38.076095</td>\n",
       "      <td>61.923875</td>\n",
       "      <td>Unit 2</td>\n",
       "      <td>14.3881</td>\n",
       "      <td>1139.14</td>\n",
       "    </tr>\n",
       "    <tr>\n",
       "      <th>5</th>\n",
       "      <td>179</td>\n",
       "      <td>117</td>\n",
       "      <td>59.347143</td>\n",
       "      <td>38.076034</td>\n",
       "      <td>61.923875</td>\n",
       "      <td>Unit 1</td>\n",
       "      <td>10.1685</td>\n",
       "      <td>969.41</td>\n",
       "    </tr>\n",
       "    <tr>\n",
       "      <th>6</th>\n",
       "      <td>181</td>\n",
       "      <td>141</td>\n",
       "      <td>58.619137</td>\n",
       "      <td>38.076025</td>\n",
       "      <td>61.923875</td>\n",
       "      <td>Unit 2</td>\n",
       "      <td>14.4291</td>\n",
       "      <td>1139.67</td>\n",
       "    </tr>\n",
       "    <tr>\n",
       "      <th>7</th>\n",
       "      <td>178</td>\n",
       "      <td>137</td>\n",
       "      <td>52.509408</td>\n",
       "      <td>38.076034</td>\n",
       "      <td>61.923875</td>\n",
       "      <td>Unit 1</td>\n",
       "      <td>11.6411</td>\n",
       "      <td>1019.49</td>\n",
       "    </tr>\n",
       "    <tr>\n",
       "      <th>8</th>\n",
       "      <td>181</td>\n",
       "      <td>140</td>\n",
       "      <td>50.473435</td>\n",
       "      <td>38.076027</td>\n",
       "      <td>61.923875</td>\n",
       "      <td>Unit 2</td>\n",
       "      <td>14.4932</td>\n",
       "      <td>1146.75</td>\n",
       "    </tr>\n",
       "    <tr>\n",
       "      <th>9</th>\n",
       "      <td>181</td>\n",
       "      <td>118</td>\n",
       "      <td>58.529794</td>\n",
       "      <td>38.076026</td>\n",
       "      <td>61.924054</td>\n",
       "      <td>Unit 2</td>\n",
       "      <td>11.8718</td>\n",
       "      <td>1121.11</td>\n",
       "    </tr>\n",
       "  </tbody>\n",
       "</table>\n",
       "</div>"
      ],
      "text/plain": [
       "   Heating Temperature  Cooling Temperature  Solid Mold Size     Coke %  \\\n",
       "0                  167                  143        55.900571  38.076035   \n",
       "1                  169                  117        54.460428  38.076035   \n",
       "2                  168                  117        51.243370  38.076030   \n",
       "3                  177                  141        59.031522  38.076034   \n",
       "4                  181                  140        59.838147  38.076095   \n",
       "5                  179                  117        59.347143  38.076034   \n",
       "6                  181                  141        58.619137  38.076025   \n",
       "7                  178                  137        52.509408  38.076034   \n",
       "8                  181                  140        50.473435  38.076027   \n",
       "9                  181                  118        58.529794  38.076026   \n",
       "\n",
       "   Minerals % Production Type  Inclusions  Steel Strength  \n",
       "0   61.923875          Unit 1     11.6416         1020.80  \n",
       "1   61.923875          Unit 1     10.2305          981.11  \n",
       "2   61.923875          Unit 1     10.2811          982.97  \n",
       "3   61.923875          Unit 2     14.3769         1134.71  \n",
       "4   61.923875          Unit 2     14.3881         1139.14  \n",
       "5   61.923875          Unit 1     10.1685          969.41  \n",
       "6   61.923875          Unit 2     14.4291         1139.67  \n",
       "7   61.923875          Unit 1     11.6411         1019.49  \n",
       "8   61.923875          Unit 2     14.4932         1146.75  \n",
       "9   61.924054          Unit 2     11.8718         1121.11  "
      ]
     },
     "execution_count": 257,
     "metadata": {},
     "output_type": "execute_result"
    }
   ],
   "source": [
    "result.head(10)"
   ]
  },
  {
   "cell_type": "code",
   "execution_count": 263,
   "id": "ba7893e7-ea92-475e-92ec-c3de22151b82",
   "metadata": {},
   "outputs": [],
   "source": [
    "# !pip install optuna"
   ]
  },
  {
   "cell_type": "code",
   "execution_count": 264,
   "id": "3f1ec6b4-061c-4ad3-8dff-77bf5ce0fe01",
   "metadata": {},
   "outputs": [],
   "source": [
    "from pymoo.algorithms.hyperparameters import SingleObjectiveSingleRun, MultiRun, HyperparameterProblem, stats_single_objective_mean\n",
    "from pymoo.algorithms.soo.nonconvex.optuna import Optuna\n",
    "from pymoo.algorithms.soo.nonconvex.g3pcx import G3PCX\n",
    "from pymoo.core.parameters import set_params, hierarchical"
   ]
  },
  {
   "cell_type": "code",
   "execution_count": 272,
   "id": "990a73f6-d797-4261-ad0e-2855d29cd2bf",
   "metadata": {},
   "outputs": [],
   "source": [
    "class SteelManufacturing(Problem):\n",
    "\n",
    "    def __init__(self, **kwargs):\n",
    "        super().__init__(vars = mixed_variables, n_obj = 2,\n",
    "                         n_ieq_constr = 1 , n_eq_constr = 1 ,\n",
    "                         **kwargs) \n",
    "\n",
    "    def _evaluate(self, x, out, *args, **kwargs):\n",
    "        print(x)\n",
    "        # Type conversion for Prediction and Constraint\n",
    "        temp_df = pd.DataFrame(list(x))\n",
    "        \n",
    "        obj1 = inclusion_model.predict(temp_df) # Minimise\n",
    "        obj2 = -1*steel_strength_model.predict(temp_df) # Maximise\n",
    "        \n",
    "        equality_constraint = temp_df[[\"Coke %\", \"Minerals %\"]].sum(axis = 1) - 100\n",
    "        inequality_constraint = temp_df[\"Cooling Temperature\"] - temp_df[\"Heating Temperature\"]\n",
    "        \n",
    "        out[\"F\"] = np.column_stack([obj1 , obj2])\n",
    "        out[\"G\"] = np.column_stack([inequality_constraint])\n",
    "        out[\"H\"] = np.column_stack([equality_constraint])"
   ]
  },
  {
   "cell_type": "code",
   "execution_count": 274,
   "id": "53612d51-3bf6-4458-8fee-595eff2f2fbc",
   "metadata": {},
   "outputs": [
    {
     "ename": "KeyError",
     "evalue": "\"<class 'pymoo\"",
     "output_type": "error",
     "traceback": [
      "\u001b[0;31m---------------------------------------------------------------------------\u001b[0m",
      "\u001b[0;31mKeyError\u001b[0m                                  Traceback (most recent call last)",
      "\u001b[0;32m/var/folders/kw/33wn3f5n5z98lz73mdpgh6dr0000gn/T/ipykernel_98080/2578134153.py\u001b[0m in \u001b[0;36m<module>\u001b[0;34m\u001b[0m\n\u001b[1;32m      9\u001b[0m \u001b[0mperformance\u001b[0m \u001b[0;34m=\u001b[0m \u001b[0mMultiRun\u001b[0m\u001b[0;34m(\u001b[0m\u001b[0mproblem\u001b[0m\u001b[0;34m,\u001b[0m \u001b[0mseeds\u001b[0m\u001b[0;34m=\u001b[0m\u001b[0mseeds\u001b[0m\u001b[0;34m,\u001b[0m \u001b[0mfunc_stats\u001b[0m \u001b[0;34m=\u001b[0m \u001b[0mstats_single_objective_mean\u001b[0m \u001b[0;34m)\u001b[0m\u001b[0;34m\u001b[0m\u001b[0;34m\u001b[0m\u001b[0m\n\u001b[1;32m     10\u001b[0m \u001b[0;34m\u001b[0m\u001b[0m\n\u001b[0;32m---> 11\u001b[0;31m res = minimize(HyperparameterProblem(algorithm , performance),\n\u001b[0m\u001b[1;32m     12\u001b[0m                \u001b[0mMixedVariableGA\u001b[0m\u001b[0;34m(\u001b[0m\u001b[0mpop_size\u001b[0m\u001b[0;34m=\u001b[0m\u001b[0;36m5\u001b[0m\u001b[0;34m)\u001b[0m\u001b[0;34m,\u001b[0m\u001b[0;34m\u001b[0m\u001b[0;34m\u001b[0m\u001b[0m\n\u001b[1;32m     13\u001b[0m                \u001b[0mtermination\u001b[0m\u001b[0;34m=\u001b[0m\u001b[0;34m(\u001b[0m\u001b[0;34m'n_evals'\u001b[0m\u001b[0;34m,\u001b[0m \u001b[0;36m5\u001b[0m\u001b[0;34m)\u001b[0m\u001b[0;34m,\u001b[0m\u001b[0;34m\u001b[0m\u001b[0;34m\u001b[0m\u001b[0m\n",
      "\u001b[0;32m/opt/anaconda3/lib/python3.9/site-packages/pymoo/optimize.py\u001b[0m in \u001b[0;36mminimize\u001b[0;34m(problem, algorithm, termination, copy_algorithm, copy_termination, **kwargs)\u001b[0m\n\u001b[1;32m     65\u001b[0m \u001b[0;34m\u001b[0m\u001b[0m\n\u001b[1;32m     66\u001b[0m     \u001b[0;31m# actually execute the algorithm\u001b[0m\u001b[0;34m\u001b[0m\u001b[0;34m\u001b[0m\u001b[0m\n\u001b[0;32m---> 67\u001b[0;31m     \u001b[0mres\u001b[0m \u001b[0;34m=\u001b[0m \u001b[0malgorithm\u001b[0m\u001b[0;34m.\u001b[0m\u001b[0mrun\u001b[0m\u001b[0;34m(\u001b[0m\u001b[0;34m)\u001b[0m\u001b[0;34m\u001b[0m\u001b[0;34m\u001b[0m\u001b[0m\n\u001b[0m\u001b[1;32m     68\u001b[0m \u001b[0;34m\u001b[0m\u001b[0m\n\u001b[1;32m     69\u001b[0m     \u001b[0;31m# store the deep copied algorithm in the result object\u001b[0m\u001b[0;34m\u001b[0m\u001b[0;34m\u001b[0m\u001b[0m\n",
      "\u001b[0;32m/opt/anaconda3/lib/python3.9/site-packages/pymoo/core/algorithm.py\u001b[0m in \u001b[0;36mrun\u001b[0;34m(self)\u001b[0m\n\u001b[1;32m    139\u001b[0m     \u001b[0;32mdef\u001b[0m \u001b[0mrun\u001b[0m\u001b[0;34m(\u001b[0m\u001b[0mself\u001b[0m\u001b[0;34m)\u001b[0m\u001b[0;34m:\u001b[0m\u001b[0;34m\u001b[0m\u001b[0;34m\u001b[0m\u001b[0m\n\u001b[1;32m    140\u001b[0m         \u001b[0;32mwhile\u001b[0m \u001b[0mself\u001b[0m\u001b[0;34m.\u001b[0m\u001b[0mhas_next\u001b[0m\u001b[0;34m(\u001b[0m\u001b[0;34m)\u001b[0m\u001b[0;34m:\u001b[0m\u001b[0;34m\u001b[0m\u001b[0;34m\u001b[0m\u001b[0m\n\u001b[0;32m--> 141\u001b[0;31m             \u001b[0mself\u001b[0m\u001b[0;34m.\u001b[0m\u001b[0mnext\u001b[0m\u001b[0;34m(\u001b[0m\u001b[0;34m)\u001b[0m\u001b[0;34m\u001b[0m\u001b[0;34m\u001b[0m\u001b[0m\n\u001b[0m\u001b[1;32m    142\u001b[0m         \u001b[0;32mreturn\u001b[0m \u001b[0mself\u001b[0m\u001b[0;34m.\u001b[0m\u001b[0mresult\u001b[0m\u001b[0;34m(\u001b[0m\u001b[0;34m)\u001b[0m\u001b[0;34m\u001b[0m\u001b[0;34m\u001b[0m\u001b[0m\n\u001b[1;32m    143\u001b[0m \u001b[0;34m\u001b[0m\u001b[0m\n",
      "\u001b[0;32m/opt/anaconda3/lib/python3.9/site-packages/pymoo/core/algorithm.py\u001b[0m in \u001b[0;36mnext\u001b[0;34m(self)\u001b[0m\n\u001b[1;32m    159\u001b[0m         \u001b[0;31m# call the advance with them after evaluation\u001b[0m\u001b[0;34m\u001b[0m\u001b[0;34m\u001b[0m\u001b[0m\n\u001b[1;32m    160\u001b[0m         \u001b[0;32mif\u001b[0m \u001b[0minfills\u001b[0m \u001b[0;32mis\u001b[0m \u001b[0;32mnot\u001b[0m \u001b[0;32mNone\u001b[0m\u001b[0;34m:\u001b[0m\u001b[0;34m\u001b[0m\u001b[0;34m\u001b[0m\u001b[0m\n\u001b[0;32m--> 161\u001b[0;31m             \u001b[0mself\u001b[0m\u001b[0;34m.\u001b[0m\u001b[0mevaluator\u001b[0m\u001b[0;34m.\u001b[0m\u001b[0meval\u001b[0m\u001b[0;34m(\u001b[0m\u001b[0mself\u001b[0m\u001b[0;34m.\u001b[0m\u001b[0mproblem\u001b[0m\u001b[0;34m,\u001b[0m \u001b[0minfills\u001b[0m\u001b[0;34m,\u001b[0m \u001b[0malgorithm\u001b[0m\u001b[0;34m=\u001b[0m\u001b[0mself\u001b[0m\u001b[0;34m)\u001b[0m\u001b[0;34m\u001b[0m\u001b[0;34m\u001b[0m\u001b[0m\n\u001b[0m\u001b[1;32m    162\u001b[0m             \u001b[0mself\u001b[0m\u001b[0;34m.\u001b[0m\u001b[0madvance\u001b[0m\u001b[0;34m(\u001b[0m\u001b[0minfills\u001b[0m\u001b[0;34m=\u001b[0m\u001b[0minfills\u001b[0m\u001b[0;34m)\u001b[0m\u001b[0;34m\u001b[0m\u001b[0;34m\u001b[0m\u001b[0m\n\u001b[1;32m    163\u001b[0m \u001b[0;34m\u001b[0m\u001b[0m\n",
      "\u001b[0;32m/opt/anaconda3/lib/python3.9/site-packages/pymoo/core/evaluator.py\u001b[0m in \u001b[0;36meval\u001b[0;34m(self, problem, pop, skip_already_evaluated, evaluate_values_of, count_evals, **kwargs)\u001b[0m\n\u001b[1;32m     67\u001b[0m \u001b[0;34m\u001b[0m\u001b[0m\n\u001b[1;32m     68\u001b[0m             \u001b[0;31m# do the actual evaluation - call the sub-function to set the corresponding values to the population\u001b[0m\u001b[0;34m\u001b[0m\u001b[0;34m\u001b[0m\u001b[0m\n\u001b[0;32m---> 69\u001b[0;31m             \u001b[0mself\u001b[0m\u001b[0;34m.\u001b[0m\u001b[0m_eval\u001b[0m\u001b[0;34m(\u001b[0m\u001b[0mproblem\u001b[0m\u001b[0;34m,\u001b[0m \u001b[0mpop\u001b[0m\u001b[0;34m[\u001b[0m\u001b[0mI\u001b[0m\u001b[0;34m]\u001b[0m\u001b[0;34m,\u001b[0m \u001b[0mevaluate_values_of\u001b[0m\u001b[0;34m,\u001b[0m \u001b[0;34m**\u001b[0m\u001b[0mkwargs\u001b[0m\u001b[0;34m)\u001b[0m\u001b[0;34m\u001b[0m\u001b[0;34m\u001b[0m\u001b[0m\n\u001b[0m\u001b[1;32m     70\u001b[0m \u001b[0;34m\u001b[0m\u001b[0m\n\u001b[1;32m     71\u001b[0m         \u001b[0;31m# update the function evaluation counter\u001b[0m\u001b[0;34m\u001b[0m\u001b[0;34m\u001b[0m\u001b[0m\n",
      "\u001b[0;32m/opt/anaconda3/lib/python3.9/site-packages/pymoo/core/evaluator.py\u001b[0m in \u001b[0;36m_eval\u001b[0;34m(self, problem, pop, evaluate_values_of, **kwargs)\u001b[0m\n\u001b[1;32m     88\u001b[0m \u001b[0;34m\u001b[0m\u001b[0m\n\u001b[1;32m     89\u001b[0m         \u001b[0;31m# call the problem to evaluate the solutions\u001b[0m\u001b[0;34m\u001b[0m\u001b[0;34m\u001b[0m\u001b[0m\n\u001b[0;32m---> 90\u001b[0;31m         \u001b[0mout\u001b[0m \u001b[0;34m=\u001b[0m \u001b[0mproblem\u001b[0m\u001b[0;34m.\u001b[0m\u001b[0mevaluate\u001b[0m\u001b[0;34m(\u001b[0m\u001b[0mX\u001b[0m\u001b[0;34m,\u001b[0m \u001b[0mreturn_values_of\u001b[0m\u001b[0;34m=\u001b[0m\u001b[0mevaluate_values_of\u001b[0m\u001b[0;34m,\u001b[0m \u001b[0mreturn_as_dictionary\u001b[0m\u001b[0;34m=\u001b[0m\u001b[0;32mTrue\u001b[0m\u001b[0;34m,\u001b[0m \u001b[0;34m**\u001b[0m\u001b[0mkwargs\u001b[0m\u001b[0;34m)\u001b[0m\u001b[0;34m\u001b[0m\u001b[0;34m\u001b[0m\u001b[0m\n\u001b[0m\u001b[1;32m     91\u001b[0m \u001b[0;34m\u001b[0m\u001b[0m\n\u001b[1;32m     92\u001b[0m         \u001b[0;31m# for each of the attributes set it to the problem\u001b[0m\u001b[0;34m\u001b[0m\u001b[0;34m\u001b[0m\u001b[0m\n",
      "\u001b[0;32m/opt/anaconda3/lib/python3.9/site-packages/pymoo/core/problem.py\u001b[0m in \u001b[0;36mevaluate\u001b[0;34m(self, X, return_values_of, return_as_dictionary, *args, **kwargs)\u001b[0m\n\u001b[1;32m    185\u001b[0m \u001b[0;34m\u001b[0m\u001b[0m\n\u001b[1;32m    186\u001b[0m         \u001b[0;31m# this is where the actual evaluation takes place\u001b[0m\u001b[0;34m\u001b[0m\u001b[0;34m\u001b[0m\u001b[0m\n\u001b[0;32m--> 187\u001b[0;31m         \u001b[0m_out\u001b[0m \u001b[0;34m=\u001b[0m \u001b[0mself\u001b[0m\u001b[0;34m.\u001b[0m\u001b[0mdo\u001b[0m\u001b[0;34m(\u001b[0m\u001b[0mX\u001b[0m\u001b[0;34m,\u001b[0m \u001b[0mreturn_values_of\u001b[0m\u001b[0;34m,\u001b[0m \u001b[0;34m*\u001b[0m\u001b[0margs\u001b[0m\u001b[0;34m,\u001b[0m \u001b[0;34m**\u001b[0m\u001b[0mkwargs\u001b[0m\u001b[0;34m)\u001b[0m\u001b[0;34m\u001b[0m\u001b[0;34m\u001b[0m\u001b[0m\n\u001b[0m\u001b[1;32m    188\u001b[0m \u001b[0;34m\u001b[0m\u001b[0m\n\u001b[1;32m    189\u001b[0m         \u001b[0mout\u001b[0m \u001b[0;34m=\u001b[0m \u001b[0;34m{\u001b[0m\u001b[0;34m}\u001b[0m\u001b[0;34m\u001b[0m\u001b[0;34m\u001b[0m\u001b[0m\n",
      "\u001b[0;32m/opt/anaconda3/lib/python3.9/site-packages/pymoo/core/problem.py\u001b[0m in \u001b[0;36mdo\u001b[0;34m(self, X, return_values_of, *args, **kwargs)\u001b[0m\n\u001b[1;32m    225\u001b[0m         \u001b[0;31m# do the function evaluation\u001b[0m\u001b[0;34m\u001b[0m\u001b[0;34m\u001b[0m\u001b[0m\n\u001b[1;32m    226\u001b[0m         \u001b[0;32mif\u001b[0m \u001b[0mself\u001b[0m\u001b[0;34m.\u001b[0m\u001b[0melementwise\u001b[0m\u001b[0;34m:\u001b[0m\u001b[0;34m\u001b[0m\u001b[0;34m\u001b[0m\u001b[0m\n\u001b[0;32m--> 227\u001b[0;31m             \u001b[0mself\u001b[0m\u001b[0;34m.\u001b[0m\u001b[0m_evaluate_elementwise\u001b[0m\u001b[0;34m(\u001b[0m\u001b[0mX\u001b[0m\u001b[0;34m,\u001b[0m \u001b[0mout\u001b[0m\u001b[0;34m,\u001b[0m \u001b[0;34m*\u001b[0m\u001b[0margs\u001b[0m\u001b[0;34m,\u001b[0m \u001b[0;34m**\u001b[0m\u001b[0mkwargs\u001b[0m\u001b[0;34m)\u001b[0m\u001b[0;34m\u001b[0m\u001b[0;34m\u001b[0m\u001b[0m\n\u001b[0m\u001b[1;32m    228\u001b[0m         \u001b[0;32melse\u001b[0m\u001b[0;34m:\u001b[0m\u001b[0;34m\u001b[0m\u001b[0;34m\u001b[0m\u001b[0m\n\u001b[1;32m    229\u001b[0m             \u001b[0mself\u001b[0m\u001b[0;34m.\u001b[0m\u001b[0m_evaluate_vectorized\u001b[0m\u001b[0;34m(\u001b[0m\u001b[0mX\u001b[0m\u001b[0;34m,\u001b[0m \u001b[0mout\u001b[0m\u001b[0;34m,\u001b[0m \u001b[0;34m*\u001b[0m\u001b[0margs\u001b[0m\u001b[0;34m,\u001b[0m \u001b[0;34m**\u001b[0m\u001b[0mkwargs\u001b[0m\u001b[0;34m)\u001b[0m\u001b[0;34m\u001b[0m\u001b[0;34m\u001b[0m\u001b[0m\n",
      "\u001b[0;32m/opt/anaconda3/lib/python3.9/site-packages/pymoo/core/problem.py\u001b[0m in \u001b[0;36m_evaluate_elementwise\u001b[0;34m(self, X, out, *args, **kwargs)\u001b[0m\n\u001b[1;32m    243\u001b[0m \u001b[0;34m\u001b[0m\u001b[0m\n\u001b[1;32m    244\u001b[0m         \u001b[0;31m# execute the runner\u001b[0m\u001b[0;34m\u001b[0m\u001b[0;34m\u001b[0m\u001b[0m\n\u001b[0;32m--> 245\u001b[0;31m         \u001b[0melems\u001b[0m \u001b[0;34m=\u001b[0m \u001b[0mself\u001b[0m\u001b[0;34m.\u001b[0m\u001b[0melementwise_runner\u001b[0m\u001b[0;34m(\u001b[0m\u001b[0mf\u001b[0m\u001b[0;34m,\u001b[0m \u001b[0mX\u001b[0m\u001b[0;34m)\u001b[0m\u001b[0;34m\u001b[0m\u001b[0;34m\u001b[0m\u001b[0m\n\u001b[0m\u001b[1;32m    246\u001b[0m \u001b[0;34m\u001b[0m\u001b[0m\n\u001b[1;32m    247\u001b[0m         \u001b[0;31m# for each evaluation call\u001b[0m\u001b[0;34m\u001b[0m\u001b[0;34m\u001b[0m\u001b[0m\n",
      "\u001b[0;32m/opt/anaconda3/lib/python3.9/site-packages/pymoo/core/problem.py\u001b[0m in \u001b[0;36m__call__\u001b[0;34m(self, f, X)\u001b[0m\n\u001b[1;32m     25\u001b[0m \u001b[0;34m\u001b[0m\u001b[0m\n\u001b[1;32m     26\u001b[0m     \u001b[0;32mdef\u001b[0m \u001b[0m__call__\u001b[0m\u001b[0;34m(\u001b[0m\u001b[0mself\u001b[0m\u001b[0;34m,\u001b[0m \u001b[0mf\u001b[0m\u001b[0;34m,\u001b[0m \u001b[0mX\u001b[0m\u001b[0;34m)\u001b[0m\u001b[0;34m:\u001b[0m\u001b[0;34m\u001b[0m\u001b[0;34m\u001b[0m\u001b[0m\n\u001b[0;32m---> 27\u001b[0;31m         \u001b[0;32mreturn\u001b[0m \u001b[0;34m[\u001b[0m\u001b[0mf\u001b[0m\u001b[0;34m(\u001b[0m\u001b[0mx\u001b[0m\u001b[0;34m)\u001b[0m \u001b[0;32mfor\u001b[0m \u001b[0mx\u001b[0m \u001b[0;32min\u001b[0m \u001b[0mX\u001b[0m\u001b[0;34m]\u001b[0m\u001b[0;34m\u001b[0m\u001b[0;34m\u001b[0m\u001b[0m\n\u001b[0m\u001b[1;32m     28\u001b[0m \u001b[0;34m\u001b[0m\u001b[0m\n\u001b[1;32m     29\u001b[0m \u001b[0;34m\u001b[0m\u001b[0m\n",
      "\u001b[0;32m/opt/anaconda3/lib/python3.9/site-packages/pymoo/core/problem.py\u001b[0m in \u001b[0;36m<listcomp>\u001b[0;34m(.0)\u001b[0m\n\u001b[1;32m     25\u001b[0m \u001b[0;34m\u001b[0m\u001b[0m\n\u001b[1;32m     26\u001b[0m     \u001b[0;32mdef\u001b[0m \u001b[0m__call__\u001b[0m\u001b[0;34m(\u001b[0m\u001b[0mself\u001b[0m\u001b[0;34m,\u001b[0m \u001b[0mf\u001b[0m\u001b[0;34m,\u001b[0m \u001b[0mX\u001b[0m\u001b[0;34m)\u001b[0m\u001b[0;34m:\u001b[0m\u001b[0;34m\u001b[0m\u001b[0;34m\u001b[0m\u001b[0m\n\u001b[0;32m---> 27\u001b[0;31m         \u001b[0;32mreturn\u001b[0m \u001b[0;34m[\u001b[0m\u001b[0mf\u001b[0m\u001b[0;34m(\u001b[0m\u001b[0mx\u001b[0m\u001b[0;34m)\u001b[0m \u001b[0;32mfor\u001b[0m \u001b[0mx\u001b[0m \u001b[0;32min\u001b[0m \u001b[0mX\u001b[0m\u001b[0;34m]\u001b[0m\u001b[0;34m\u001b[0m\u001b[0;34m\u001b[0m\u001b[0m\n\u001b[0m\u001b[1;32m     28\u001b[0m \u001b[0;34m\u001b[0m\u001b[0m\n\u001b[1;32m     29\u001b[0m \u001b[0;34m\u001b[0m\u001b[0m\n",
      "\u001b[0;32m/opt/anaconda3/lib/python3.9/site-packages/pymoo/core/problem.py\u001b[0m in \u001b[0;36m__call__\u001b[0;34m(self, x)\u001b[0m\n\u001b[1;32m     18\u001b[0m     \u001b[0;32mdef\u001b[0m \u001b[0m__call__\u001b[0m\u001b[0;34m(\u001b[0m\u001b[0mself\u001b[0m\u001b[0;34m,\u001b[0m \u001b[0mx\u001b[0m\u001b[0;34m)\u001b[0m\u001b[0;34m:\u001b[0m\u001b[0;34m\u001b[0m\u001b[0;34m\u001b[0m\u001b[0m\n\u001b[1;32m     19\u001b[0m         \u001b[0mout\u001b[0m \u001b[0;34m=\u001b[0m \u001b[0mdict\u001b[0m\u001b[0;34m(\u001b[0m\u001b[0;34m)\u001b[0m\u001b[0;34m\u001b[0m\u001b[0;34m\u001b[0m\u001b[0m\n\u001b[0;32m---> 20\u001b[0;31m         \u001b[0mself\u001b[0m\u001b[0;34m.\u001b[0m\u001b[0mproblem\u001b[0m\u001b[0;34m.\u001b[0m\u001b[0m_evaluate\u001b[0m\u001b[0;34m(\u001b[0m\u001b[0mx\u001b[0m\u001b[0;34m,\u001b[0m \u001b[0mout\u001b[0m\u001b[0;34m,\u001b[0m \u001b[0;34m*\u001b[0m\u001b[0mself\u001b[0m\u001b[0;34m.\u001b[0m\u001b[0margs\u001b[0m\u001b[0;34m,\u001b[0m \u001b[0;34m**\u001b[0m\u001b[0mself\u001b[0m\u001b[0;34m.\u001b[0m\u001b[0mkwargs\u001b[0m\u001b[0;34m)\u001b[0m\u001b[0;34m\u001b[0m\u001b[0;34m\u001b[0m\u001b[0m\n\u001b[0m\u001b[1;32m     21\u001b[0m         \u001b[0;32mreturn\u001b[0m \u001b[0mout\u001b[0m\u001b[0;34m\u001b[0m\u001b[0;34m\u001b[0m\u001b[0m\n\u001b[1;32m     22\u001b[0m \u001b[0;34m\u001b[0m\u001b[0m\n",
      "\u001b[0;32m/opt/anaconda3/lib/python3.9/site-packages/pymoo/algorithms/hyperparameters.py\u001b[0m in \u001b[0;36m_evaluate\u001b[0;34m(self, x, out, *args, **kwargs)\u001b[0m\n\u001b[1;32m     34\u001b[0m \u001b[0;34m\u001b[0m\u001b[0m\n\u001b[1;32m     35\u001b[0m     \u001b[0;32mdef\u001b[0m \u001b[0m_evaluate\u001b[0m\u001b[0;34m(\u001b[0m\u001b[0mself\u001b[0m\u001b[0;34m,\u001b[0m \u001b[0mx\u001b[0m\u001b[0;34m,\u001b[0m \u001b[0mout\u001b[0m\u001b[0;34m,\u001b[0m \u001b[0;34m*\u001b[0m\u001b[0margs\u001b[0m\u001b[0;34m,\u001b[0m \u001b[0;34m**\u001b[0m\u001b[0mkwargs\u001b[0m\u001b[0;34m)\u001b[0m\u001b[0;34m:\u001b[0m\u001b[0;34m\u001b[0m\u001b[0;34m\u001b[0m\u001b[0m\n\u001b[0;32m---> 36\u001b[0;31m         \u001b[0malgorithm\u001b[0m \u001b[0;34m=\u001b[0m \u001b[0mself\u001b[0m\u001b[0;34m.\u001b[0m\u001b[0mfunc_create\u001b[0m\u001b[0;34m(\u001b[0m\u001b[0mself\u001b[0m\u001b[0;34m.\u001b[0m\u001b[0malgorithm\u001b[0m\u001b[0;34m,\u001b[0m \u001b[0mx\u001b[0m\u001b[0;34m)\u001b[0m\u001b[0;34m\u001b[0m\u001b[0;34m\u001b[0m\u001b[0m\n\u001b[0m\u001b[1;32m     37\u001b[0m         \u001b[0mv\u001b[0m \u001b[0;34m=\u001b[0m \u001b[0mself\u001b[0m\u001b[0;34m.\u001b[0m\u001b[0mperformance\u001b[0m\u001b[0;34m(\u001b[0m\u001b[0malgorithm\u001b[0m\u001b[0;34m)\u001b[0m\u001b[0;34m\u001b[0m\u001b[0;34m\u001b[0m\u001b[0m\n\u001b[1;32m     38\u001b[0m         \u001b[0mout\u001b[0m\u001b[0;34m.\u001b[0m\u001b[0mupdate\u001b[0m\u001b[0;34m(\u001b[0m\u001b[0mv\u001b[0m\u001b[0;34m)\u001b[0m\u001b[0;34m\u001b[0m\u001b[0;34m\u001b[0m\u001b[0m\n",
      "\u001b[0;32m/opt/anaconda3/lib/python3.9/site-packages/pymoo/algorithms/hyperparameters.py\u001b[0m in \u001b[0;36mcreate\u001b[0;34m(algorithm, params)\u001b[0m\n\u001b[1;32m     10\u001b[0m \u001b[0;32mdef\u001b[0m \u001b[0mcreate\u001b[0m\u001b[0;34m(\u001b[0m\u001b[0malgorithm\u001b[0m\u001b[0;34m,\u001b[0m \u001b[0mparams\u001b[0m\u001b[0;34m)\u001b[0m\u001b[0;34m:\u001b[0m\u001b[0;34m\u001b[0m\u001b[0;34m\u001b[0m\u001b[0m\n\u001b[1;32m     11\u001b[0m     \u001b[0malgorithm\u001b[0m \u001b[0;34m=\u001b[0m \u001b[0mdeepcopy\u001b[0m\u001b[0;34m(\u001b[0m\u001b[0malgorithm\u001b[0m\u001b[0;34m)\u001b[0m\u001b[0;34m\u001b[0m\u001b[0;34m\u001b[0m\u001b[0m\n\u001b[0;32m---> 12\u001b[0;31m     \u001b[0mset_params\u001b[0m\u001b[0;34m(\u001b[0m\u001b[0malgorithm\u001b[0m\u001b[0;34m,\u001b[0m \u001b[0mhierarchical\u001b[0m\u001b[0;34m(\u001b[0m\u001b[0mparams\u001b[0m\u001b[0;34m)\u001b[0m\u001b[0;34m)\u001b[0m\u001b[0;34m\u001b[0m\u001b[0;34m\u001b[0m\u001b[0m\n\u001b[0m\u001b[1;32m     13\u001b[0m     \u001b[0;32mreturn\u001b[0m \u001b[0malgorithm\u001b[0m\u001b[0;34m\u001b[0m\u001b[0;34m\u001b[0m\u001b[0m\n\u001b[1;32m     14\u001b[0m \u001b[0;34m\u001b[0m\u001b[0m\n",
      "\u001b[0;32m/opt/anaconda3/lib/python3.9/site-packages/pymoo/core/parameters.py\u001b[0m in \u001b[0;36mset_params\u001b[0;34m(obj, params, as_value)\u001b[0m\n\u001b[1;32m     95\u001b[0m     \u001b[0;32mfor\u001b[0m \u001b[0mk\u001b[0m\u001b[0;34m,\u001b[0m \u001b[0mv\u001b[0m \u001b[0;32min\u001b[0m \u001b[0mparams\u001b[0m\u001b[0;34m.\u001b[0m\u001b[0mitems\u001b[0m\u001b[0;34m(\u001b[0m\u001b[0;34m)\u001b[0m\u001b[0;34m:\u001b[0m\u001b[0;34m\u001b[0m\u001b[0;34m\u001b[0m\u001b[0m\n\u001b[1;32m     96\u001b[0m         \u001b[0;32mif\u001b[0m \u001b[0misinstance\u001b[0m\u001b[0;34m(\u001b[0m\u001b[0mv\u001b[0m\u001b[0;34m,\u001b[0m \u001b[0mdict\u001b[0m\u001b[0;34m)\u001b[0m\u001b[0;34m:\u001b[0m\u001b[0;34m\u001b[0m\u001b[0;34m\u001b[0m\u001b[0m\n\u001b[0;32m---> 97\u001b[0;31m             \u001b[0mset_params\u001b[0m\u001b[0;34m(\u001b[0m\u001b[0mdata\u001b[0m\u001b[0;34m[\u001b[0m\u001b[0mk\u001b[0m\u001b[0;34m]\u001b[0m\u001b[0;34m,\u001b[0m \u001b[0mv\u001b[0m\u001b[0;34m)\u001b[0m\u001b[0;34m\u001b[0m\u001b[0;34m\u001b[0m\u001b[0m\n\u001b[0m\u001b[1;32m     98\u001b[0m         \u001b[0;32melse\u001b[0m\u001b[0;34m:\u001b[0m\u001b[0;34m\u001b[0m\u001b[0;34m\u001b[0m\u001b[0m\n\u001b[1;32m     99\u001b[0m             \u001b[0;32mif\u001b[0m \u001b[0mas_value\u001b[0m\u001b[0;34m:\u001b[0m\u001b[0;34m\u001b[0m\u001b[0;34m\u001b[0m\u001b[0m\n",
      "\u001b[0;32m/opt/anaconda3/lib/python3.9/site-packages/pymoo/core/parameters.py\u001b[0m in \u001b[0;36mset_params\u001b[0;34m(obj, params, as_value)\u001b[0m\n\u001b[1;32m     95\u001b[0m     \u001b[0;32mfor\u001b[0m \u001b[0mk\u001b[0m\u001b[0;34m,\u001b[0m \u001b[0mv\u001b[0m \u001b[0;32min\u001b[0m \u001b[0mparams\u001b[0m\u001b[0;34m.\u001b[0m\u001b[0mitems\u001b[0m\u001b[0;34m(\u001b[0m\u001b[0;34m)\u001b[0m\u001b[0;34m:\u001b[0m\u001b[0;34m\u001b[0m\u001b[0;34m\u001b[0m\u001b[0m\n\u001b[1;32m     96\u001b[0m         \u001b[0;32mif\u001b[0m \u001b[0misinstance\u001b[0m\u001b[0;34m(\u001b[0m\u001b[0mv\u001b[0m\u001b[0;34m,\u001b[0m \u001b[0mdict\u001b[0m\u001b[0;34m)\u001b[0m\u001b[0;34m:\u001b[0m\u001b[0;34m\u001b[0m\u001b[0;34m\u001b[0m\u001b[0m\n\u001b[0;32m---> 97\u001b[0;31m             \u001b[0mset_params\u001b[0m\u001b[0;34m(\u001b[0m\u001b[0mdata\u001b[0m\u001b[0;34m[\u001b[0m\u001b[0mk\u001b[0m\u001b[0;34m]\u001b[0m\u001b[0;34m,\u001b[0m \u001b[0mv\u001b[0m\u001b[0;34m)\u001b[0m\u001b[0;34m\u001b[0m\u001b[0;34m\u001b[0m\u001b[0m\n\u001b[0m\u001b[1;32m     98\u001b[0m         \u001b[0;32melse\u001b[0m\u001b[0;34m:\u001b[0m\u001b[0;34m\u001b[0m\u001b[0;34m\u001b[0m\u001b[0m\n\u001b[1;32m     99\u001b[0m             \u001b[0;32mif\u001b[0m \u001b[0mas_value\u001b[0m\u001b[0;34m:\u001b[0m\u001b[0;34m\u001b[0m\u001b[0;34m\u001b[0m\u001b[0m\n",
      "\u001b[0;32m/opt/anaconda3/lib/python3.9/site-packages/pymoo/core/parameters.py\u001b[0m in \u001b[0;36mset_params\u001b[0;34m(obj, params, as_value)\u001b[0m\n\u001b[1;32m     95\u001b[0m     \u001b[0;32mfor\u001b[0m \u001b[0mk\u001b[0m\u001b[0;34m,\u001b[0m \u001b[0mv\u001b[0m \u001b[0;32min\u001b[0m \u001b[0mparams\u001b[0m\u001b[0;34m.\u001b[0m\u001b[0mitems\u001b[0m\u001b[0;34m(\u001b[0m\u001b[0;34m)\u001b[0m\u001b[0;34m:\u001b[0m\u001b[0;34m\u001b[0m\u001b[0;34m\u001b[0m\u001b[0m\n\u001b[1;32m     96\u001b[0m         \u001b[0;32mif\u001b[0m \u001b[0misinstance\u001b[0m\u001b[0;34m(\u001b[0m\u001b[0mv\u001b[0m\u001b[0;34m,\u001b[0m \u001b[0mdict\u001b[0m\u001b[0;34m)\u001b[0m\u001b[0;34m:\u001b[0m\u001b[0;34m\u001b[0m\u001b[0;34m\u001b[0m\u001b[0m\n\u001b[0;32m---> 97\u001b[0;31m             \u001b[0mset_params\u001b[0m\u001b[0;34m(\u001b[0m\u001b[0mdata\u001b[0m\u001b[0;34m[\u001b[0m\u001b[0mk\u001b[0m\u001b[0;34m]\u001b[0m\u001b[0;34m,\u001b[0m \u001b[0mv\u001b[0m\u001b[0;34m)\u001b[0m\u001b[0;34m\u001b[0m\u001b[0;34m\u001b[0m\u001b[0m\n\u001b[0m\u001b[1;32m     98\u001b[0m         \u001b[0;32melse\u001b[0m\u001b[0;34m:\u001b[0m\u001b[0;34m\u001b[0m\u001b[0;34m\u001b[0m\u001b[0m\n\u001b[1;32m     99\u001b[0m             \u001b[0;32mif\u001b[0m \u001b[0mas_value\u001b[0m\u001b[0;34m:\u001b[0m\u001b[0;34m\u001b[0m\u001b[0;34m\u001b[0m\u001b[0m\n",
      "\u001b[0;31mKeyError\u001b[0m: \"<class 'pymoo\""
     ]
    }
   ],
   "source": [
    "problem = SteelManufacturing()\n",
    "\n",
    "algorithm = NSGA2(pop_size = 3,\n",
    "                  sampling = MixedVariableSampling(),\n",
    "                  mating=MixedVariableMating(eliminate_duplicates=MixedVariableDuplicateElimination()),\n",
    "                  eliminate_duplicates = False)\n",
    "\n",
    "seeds = [1, 5, 50, 500]\n",
    "performance = MultiRun(problem, seeds=seeds, func_stats = stats_single_objective_mean )\n",
    "\n",
    "res = minimize(HyperparameterProblem(algorithm , performance),\n",
    "               MixedVariableGA(pop_size=5),\n",
    "               termination=('n_evals', 5),\n",
    "               seed=1,\n",
    "               verbose=False)\n",
    "\n",
    "# hyperparams = res.X\n",
    "# print(hyperparams)\n",
    "# set_params(algorithm, hierarchical(hyperparams))\n",
    "\n",
    "# res = minimize(Sphere(), algorithm, termination=(\"n_evals\", n_evals), seed=1)\n",
    "# print(\"Best solution found: \\nX = %s\\nF = %s\" % (res.X, res.F))"
   ]
  },
  {
   "cell_type": "code",
   "execution_count": null,
   "id": "14ae3c43-ec20-4ceb-83a4-01d91f44cca7",
   "metadata": {},
   "outputs": [],
   "source": []
  }
 ],
 "metadata": {
  "kernelspec": {
   "display_name": "Python 3 (ipykernel)",
   "language": "python",
   "name": "python3"
  },
  "language_info": {
   "codemirror_mode": {
    "name": "ipython",
    "version": 3
   },
   "file_extension": ".py",
   "mimetype": "text/x-python",
   "name": "python",
   "nbconvert_exporter": "python",
   "pygments_lexer": "ipython3",
   "version": "3.9.7"
  }
 },
 "nbformat": 4,
 "nbformat_minor": 5
}
